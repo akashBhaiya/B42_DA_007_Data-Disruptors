{
 "cells": [
  {
   "cell_type": "code",
   "execution_count": 2,
   "id": "aadd68b3-60ed-4231-b889-fa53795bb4c1",
   "metadata": {},
   "outputs": [
    {
     "name": "stdout",
     "output_type": "stream",
     "text": [
      "Defaulting to user installation because normal site-packages is not writeableNote: you may need to restart the kernel to use updated packages.\n"
     ]
    },
    {
     "name": "stderr",
     "output_type": "stream",
     "text": [
      "\n",
      "[notice] A new release of pip is available: 24.3.1 -> 25.0\n",
      "[notice] To update, run: python.exe -m pip install --upgrade pip\n"
     ]
    },
    {
     "name": "stdout",
     "output_type": "stream",
     "text": [
      "\n",
      "Requirement already satisfied: sqlalchemy in c:\\users\\raish\\appdata\\roaming\\python\\python312\\site-packages (2.0.36)\n",
      "Requirement already satisfied: pymysql in c:\\users\\raish\\appdata\\roaming\\python\\python312\\site-packages (1.1.1)\n",
      "Requirement already satisfied: typing-extensions>=4.6.0 in c:\\users\\raish\\appdata\\roaming\\python\\python312\\site-packages (from sqlalchemy) (4.12.2)\n",
      "Requirement already satisfied: greenlet!=0.4.17 in c:\\users\\raish\\appdata\\roaming\\python\\python312\\site-packages (from sqlalchemy) (3.1.1)\n"
     ]
    }
   ],
   "source": [
    "pip install sqlalchemy pymysql"
   ]
  },
  {
   "cell_type": "code",
   "execution_count": 5,
   "id": "a1af2bad-db86-4ba0-99da-d7c2f254d48b",
   "metadata": {},
   "outputs": [
    {
     "name": "stdout",
     "output_type": "stream",
     "text": [
      "Connected to the database successfully.\n",
      "CSV file loaded successfully.\n",
      "Data uploaded successfully.\n"
     ]
    }
   ],
   "source": [
    "from sqlalchemy import create_engine\n",
    "import pandas as pd\n",
    "\n",
    "# Replace with your MySQL credentials\n",
    "username = 'root'\n",
    "password = '12345'\n",
    "host = 'localhost:3306'\n",
    "database = 'project'\n",
    "\n",
    "# Create the connection URL\n",
    "connection_url = f'mysql+pymysql://{username}:{password}@{host}/{database}'\n",
    "\n",
    "try:\n",
    "    # Create an SQLAlchemy engine\n",
    "    engine = create_engine(connection_url)\n",
    "    print(\"Connected to the database successfully.\")\n",
    "\n",
    "    # Create a DataFrame to upload\n",
    "    accounts_df = pd.read_csv('EDA_europe_data.csv')\n",
    "    print(\"CSV file loaded successfully.\")\n",
    "\n",
    "    # Upload the DataFrame to MySQL\n",
    "    accounts_df.to_sql('europe', con=engine, if_exists='replace', index=False)\n",
    "    print(\"Data uploaded successfully.\")\n",
    "\n",
    "except Exception as e:\n",
    "    print(\"An error occurred:\", e)"
   ]
  }
 ],
 "metadata": {
  "kernelspec": {
   "display_name": "Python 3 (ipykernel)",
   "language": "python",
   "name": "python3"
  },
  "language_info": {
   "codemirror_mode": {
    "name": "ipython",
    "version": 3
   },
   "file_extension": ".py",
   "mimetype": "text/x-python",
   "name": "python",
   "nbconvert_exporter": "python",
   "pygments_lexer": "ipython3",
   "version": "3.12.6"
  }
 },
 "nbformat": 4,
 "nbformat_minor": 5
}
